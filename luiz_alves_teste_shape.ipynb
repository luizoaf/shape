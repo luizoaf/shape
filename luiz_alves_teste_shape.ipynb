{
 "cells": [
  {
   "cell_type": "markdown",
   "metadata": {},
   "source": [
    "### **Tasks**\n",
    "1. Calculate how many times the equipment has failed.\n",
    "During the FPSO’s operation, various factors can cause the machine to fail and prolong its failure state. We ask you to explore the available data, identify, and calculate the number of times the equipment has failed throughout its operation.\n",
    "2. Categorize equipment failures by setup configurations (Preset 1 and Preset 2).\n",
    "How do the variables Preset_1 and Preset_2 behave during operation? What insights can we derive from these variables?\n",
    "3. Categorize equipment failures by their nature/root cause according to parameter readings (temperature, pressure, and others).\n",
    "Analyze patterns in these readings that could indicate specific failure types. How do these patterns differ across operational regimes? Provide insights based on your findings.\n",
    "4. Create a model (or models) using the technique you think is most appropriate and measure its performance.\n",
    "Based on the given time-series dataset, which models or techniques are suitable for predicting whether the equipment will fail before it occurs? Additionally, how can the model's performance be tuned and measured for this task?\n",
    "5. Analyze variable importance.\n",
    "After developing a model, how can we determine which variables had the greatest impact on the prediction?"
   ]
  },
  {
   "cell_type": "markdown",
   "metadata": {},
   "source": [
    "### **1. Library Imports**"
   ]
  },
  {
   "cell_type": "code",
   "execution_count": 1,
   "metadata": {},
   "outputs": [],
   "source": [
    "import pandas as pd "
   ]
  },
  {
   "cell_type": "markdown",
   "metadata": {},
   "source": [
    "### **2. Data**"
   ]
  },
  {
   "cell_type": "markdown",
   "metadata": {},
   "source": [
    "#### **2.1 Data Loading**"
   ]
  },
  {
   "cell_type": "code",
   "execution_count": 2,
   "metadata": {},
   "outputs": [
    {
     "name": "stdout",
     "output_type": "stream",
     "text": [
      "(800, 10)\n"
     ]
    },
    {
     "data": {
      "application/vnd.microsoft.datawrangler.viewer.v0+json": {
       "columns": [
        {
         "name": "index",
         "rawType": "int64",
         "type": "integer"
        },
        {
         "name": "Cycle",
         "rawType": "int64",
         "type": "integer"
        },
        {
         "name": "Preset_1",
         "rawType": "int64",
         "type": "integer"
        },
        {
         "name": "Preset_2",
         "rawType": "int64",
         "type": "integer"
        },
        {
         "name": "Temperature",
         "rawType": "float64",
         "type": "float"
        },
        {
         "name": "Pressure",
         "rawType": "float64",
         "type": "float"
        },
        {
         "name": "VibrationX",
         "rawType": "float64",
         "type": "float"
        },
        {
         "name": "VibrationY",
         "rawType": "float64",
         "type": "float"
        },
        {
         "name": "VibrationZ",
         "rawType": "float64",
         "type": "float"
        },
        {
         "name": "Frequency",
         "rawType": "float64",
         "type": "float"
        },
        {
         "name": "Fail",
         "rawType": "bool",
         "type": "boolean"
        }
       ],
       "ref": "5d69207a-cdcd-45fc-aa9d-3df2f1afab35",
       "rows": [
        [
         "0",
         "1",
         "3",
         "6",
         "44.23518586415284",
         "47.65725354833926",
         "46.44176923068589",
         "64.82032657891138",
         "66.45451956495226",
         "44.48324980824037",
         "False"
        ],
        [
         "1",
         "2",
         "2",
         "4",
         "60.807234448796294",
         "63.17207576842222",
         "62.00595106708013",
         "80.71443106372683",
         "81.2464046543589",
         "60.228714793422036",
         "False"
        ],
        [
         "2",
         "3",
         "2",
         "1",
         "79.02753565280922",
         "83.03218967065293",
         "82.64210959422543",
         "98.2543855725768",
         "98.78519593981386",
         "80.99347914594966",
         "False"
        ],
        [
         "3",
         "4",
         "2",
         "3",
         "79.71624156697328",
         "100.5086344886615",
         "122.36232148005857",
         "121.36342870189367",
         "118.65253755569158",
         "80.31556651280096",
         "False"
        ],
        [
         "4",
         "5",
         "2",
         "5",
         "39.98905447038245",
         "51.76483343470046",
         "42.51430194833384",
         "61.03791021641865",
         "50.716468799909116",
         "64.24516587048186",
         "False"
        ]
       ],
       "shape": {
        "columns": 10,
        "rows": 5
       }
      },
      "text/html": [
       "<div>\n",
       "<style scoped>\n",
       "    .dataframe tbody tr th:only-of-type {\n",
       "        vertical-align: middle;\n",
       "    }\n",
       "\n",
       "    .dataframe tbody tr th {\n",
       "        vertical-align: top;\n",
       "    }\n",
       "\n",
       "    .dataframe thead th {\n",
       "        text-align: right;\n",
       "    }\n",
       "</style>\n",
       "<table border=\"1\" class=\"dataframe\">\n",
       "  <thead>\n",
       "    <tr style=\"text-align: right;\">\n",
       "      <th></th>\n",
       "      <th>Cycle</th>\n",
       "      <th>Preset_1</th>\n",
       "      <th>Preset_2</th>\n",
       "      <th>Temperature</th>\n",
       "      <th>Pressure</th>\n",
       "      <th>VibrationX</th>\n",
       "      <th>VibrationY</th>\n",
       "      <th>VibrationZ</th>\n",
       "      <th>Frequency</th>\n",
       "      <th>Fail</th>\n",
       "    </tr>\n",
       "  </thead>\n",
       "  <tbody>\n",
       "    <tr>\n",
       "      <th>0</th>\n",
       "      <td>1</td>\n",
       "      <td>3</td>\n",
       "      <td>6</td>\n",
       "      <td>44.235186</td>\n",
       "      <td>47.657254</td>\n",
       "      <td>46.441769</td>\n",
       "      <td>64.820327</td>\n",
       "      <td>66.454520</td>\n",
       "      <td>44.483250</td>\n",
       "      <td>False</td>\n",
       "    </tr>\n",
       "    <tr>\n",
       "      <th>1</th>\n",
       "      <td>2</td>\n",
       "      <td>2</td>\n",
       "      <td>4</td>\n",
       "      <td>60.807234</td>\n",
       "      <td>63.172076</td>\n",
       "      <td>62.005951</td>\n",
       "      <td>80.714431</td>\n",
       "      <td>81.246405</td>\n",
       "      <td>60.228715</td>\n",
       "      <td>False</td>\n",
       "    </tr>\n",
       "    <tr>\n",
       "      <th>2</th>\n",
       "      <td>3</td>\n",
       "      <td>2</td>\n",
       "      <td>1</td>\n",
       "      <td>79.027536</td>\n",
       "      <td>83.032190</td>\n",
       "      <td>82.642110</td>\n",
       "      <td>98.254386</td>\n",
       "      <td>98.785196</td>\n",
       "      <td>80.993479</td>\n",
       "      <td>False</td>\n",
       "    </tr>\n",
       "    <tr>\n",
       "      <th>3</th>\n",
       "      <td>4</td>\n",
       "      <td>2</td>\n",
       "      <td>3</td>\n",
       "      <td>79.716242</td>\n",
       "      <td>100.508634</td>\n",
       "      <td>122.362321</td>\n",
       "      <td>121.363429</td>\n",
       "      <td>118.652538</td>\n",
       "      <td>80.315567</td>\n",
       "      <td>False</td>\n",
       "    </tr>\n",
       "    <tr>\n",
       "      <th>4</th>\n",
       "      <td>5</td>\n",
       "      <td>2</td>\n",
       "      <td>5</td>\n",
       "      <td>39.989054</td>\n",
       "      <td>51.764833</td>\n",
       "      <td>42.514302</td>\n",
       "      <td>61.037910</td>\n",
       "      <td>50.716469</td>\n",
       "      <td>64.245166</td>\n",
       "      <td>False</td>\n",
       "    </tr>\n",
       "  </tbody>\n",
       "</table>\n",
       "</div>"
      ],
      "text/plain": [
       "   Cycle  Preset_1  Preset_2  Temperature    Pressure  VibrationX  VibrationY  \\\n",
       "0      1         3         6    44.235186   47.657254   46.441769   64.820327   \n",
       "1      2         2         4    60.807234   63.172076   62.005951   80.714431   \n",
       "2      3         2         1    79.027536   83.032190   82.642110   98.254386   \n",
       "3      4         2         3    79.716242  100.508634  122.362321  121.363429   \n",
       "4      5         2         5    39.989054   51.764833   42.514302   61.037910   \n",
       "\n",
       "   VibrationZ  Frequency   Fail  \n",
       "0   66.454520  44.483250  False  \n",
       "1   81.246405  60.228715  False  \n",
       "2   98.785196  80.993479  False  \n",
       "3  118.652538  80.315567  False  \n",
       "4   50.716469  64.245166  False  "
      ]
     },
     "execution_count": 2,
     "metadata": {},
     "output_type": "execute_result"
    }
   ],
   "source": [
    "df = pd.read_excel(\"Test O_G_Equipment_Data.xlsx\")\n",
    "print(df.shape)\n",
    "df.head()"
   ]
  },
  {
   "cell_type": "markdown",
   "metadata": {},
   "source": [
    "#### **2.2 Data Quality Check**"
   ]
  },
  {
   "cell_type": "markdown",
   "metadata": {},
   "source": [
    "#### **2.2.1 Missing Values Check**"
   ]
  },
  {
   "cell_type": "code",
   "execution_count": 3,
   "metadata": {},
   "outputs": [
    {
     "data": {
      "application/vnd.microsoft.datawrangler.viewer.v0+json": {
       "columns": [
        {
         "name": "index",
         "rawType": "object",
         "type": "string"
        },
        {
         "name": "0",
         "rawType": "int64",
         "type": "integer"
        }
       ],
       "ref": "eab588eb-2303-4d8a-b8c9-bd8f2313dc5d",
       "rows": [
        [
         "Cycle",
         "0"
        ],
        [
         "Preset_1",
         "0"
        ],
        [
         "Preset_2",
         "0"
        ],
        [
         "Temperature",
         "0"
        ],
        [
         "Pressure",
         "0"
        ],
        [
         "VibrationX",
         "0"
        ],
        [
         "VibrationY",
         "0"
        ],
        [
         "VibrationZ",
         "0"
        ],
        [
         "Frequency",
         "0"
        ],
        [
         "Fail",
         "0"
        ]
       ],
       "shape": {
        "columns": 1,
        "rows": 10
       }
      },
      "text/plain": [
       "Cycle          0\n",
       "Preset_1       0\n",
       "Preset_2       0\n",
       "Temperature    0\n",
       "Pressure       0\n",
       "VibrationX     0\n",
       "VibrationY     0\n",
       "VibrationZ     0\n",
       "Frequency      0\n",
       "Fail           0\n",
       "dtype: int64"
      ]
     },
     "execution_count": 3,
     "metadata": {},
     "output_type": "execute_result"
    }
   ],
   "source": [
    "df.isnull().sum()"
   ]
  },
  {
   "cell_type": "markdown",
   "metadata": {},
   "source": [
    "#### **2.2.2 Duplicate Check**"
   ]
  },
  {
   "cell_type": "code",
   "execution_count": 4,
   "metadata": {},
   "outputs": [
    {
     "name": "stdout",
     "output_type": "stream",
     "text": [
      "Duplicated columns: []\n",
      "Number of duplicated rows: 0\n"
     ]
    }
   ],
   "source": [
    "# Check for duplicated columns in the DataFrame\n",
    "duplicated_columns = df.columns[df.columns.duplicated()]\n",
    "\n",
    "# Check for duplicated rows in the DataFrame\n",
    "number_of_duplicated_rows = df.duplicated().sum()\n",
    "\n",
    "# Display the results\n",
    "print(\"Duplicated columns:\", list(duplicated_columns))\n",
    "print(\"Number of duplicated rows:\", number_of_duplicated_rows)\n"
   ]
  },
  {
   "cell_type": "markdown",
   "metadata": {},
   "source": [
    "#### **2.2.3 Feature Uniqueness Check**"
   ]
  },
  {
   "cell_type": "code",
   "execution_count": 5,
   "metadata": {},
   "outputs": [
    {
     "data": {
      "application/vnd.microsoft.datawrangler.viewer.v0+json": {
       "columns": [
        {
         "name": "index",
         "rawType": "object",
         "type": "string"
        },
        {
         "name": "0",
         "rawType": "int64",
         "type": "integer"
        }
       ],
       "ref": "cb9df4a1-b60e-4f39-ab4f-10370046d8ea",
       "rows": [
        [
         "Cycle",
         "800"
        ],
        [
         "Preset_1",
         "3"
        ],
        [
         "Preset_2",
         "8"
        ],
        [
         "Temperature",
         "800"
        ],
        [
         "Pressure",
         "800"
        ],
        [
         "VibrationX",
         "800"
        ],
        [
         "VibrationY",
         "800"
        ],
        [
         "VibrationZ",
         "800"
        ],
        [
         "Frequency",
         "800"
        ],
        [
         "Fail",
         "2"
        ]
       ],
       "shape": {
        "columns": 1,
        "rows": 10
       }
      },
      "text/plain": [
       "Cycle          800\n",
       "Preset_1         3\n",
       "Preset_2         8\n",
       "Temperature    800\n",
       "Pressure       800\n",
       "VibrationX     800\n",
       "VibrationY     800\n",
       "VibrationZ     800\n",
       "Frequency      800\n",
       "Fail             2\n",
       "dtype: int64"
      ]
     },
     "execution_count": 5,
     "metadata": {},
     "output_type": "execute_result"
    }
   ],
   "source": [
    "df.nunique()"
   ]
  },
  {
   "cell_type": "markdown",
   "metadata": {},
   "source": [
    "### **🟥 TASK 1**\n",
    "- Calculate how many times the equipment has failed.\n",
    "    - During the FPSO’s operation, various factors can cause the machine to fail and prolong its failure state. We ask you to explore the available data, identify, and calculate the number of times the equipment has failed throughout its operation.\n"
   ]
  },
  {
   "cell_type": "code",
   "execution_count": 6,
   "metadata": {},
   "outputs": [
    {
     "data": {
      "application/vnd.microsoft.datawrangler.viewer.v0+json": {
       "columns": [
        {
         "name": "Fail",
         "rawType": "int64",
         "type": "integer"
        },
        {
         "name": "count",
         "rawType": "int64",
         "type": "integer"
        }
       ],
       "ref": "7fb8652f-0349-4877-9856-30bdda2c1103",
       "rows": [
        [
         "0",
         "734"
        ],
        [
         "1",
         "66"
        ]
       ],
       "shape": {
        "columns": 1,
        "rows": 2
       }
      },
      "text/plain": [
       "Fail\n",
       "0    734\n",
       "1     66\n",
       "Name: count, dtype: int64"
      ]
     },
     "execution_count": 6,
     "metadata": {},
     "output_type": "execute_result"
    }
   ],
   "source": [
    "df[\"Fail\"] = df[\"Fail\"].astype(int)\n",
    "\n",
    "# Counts the number of normal (0) and failure (1) states\n",
    "df[\"Fail\"].value_counts()"
   ]
  },
  {
   "cell_type": "code",
   "execution_count": 7,
   "metadata": {},
   "outputs": [
    {
     "name": "stdout",
     "output_type": "stream",
     "text": [
      "Number of equipment failures: 10\n",
      "Number of resolved equipment failures: 9\n"
     ]
    }
   ],
   "source": [
    "# A new failure is counted when the 'Fail' column transitions from 0 to 1\n",
    "df[\"New_fail\"] = df[\"Fail\"].diff() == 1\n",
    "df[\"New_fail\"] = df[\"New_fail\"].astype(int)\n",
    "\n",
    "# A failure is considered resolved when the 'Fail' column transitions from 1 to 0\n",
    "df[\"Resolved_fail\"] = (df[\"Fail\"].diff() == -1).astype(int)\n",
    "\n",
    "print(\"Number of equipment failures:\", df[\"New_fail\"].sum())\n",
    "print(\"Number of resolved equipment failures:\", df[\"Resolved_fail\"].sum())"
   ]
  },
  {
   "cell_type": "markdown",
   "metadata": {},
   "source": [
    "#### **Task 1: Answer**\n",
    "- A total of 10 distinct failure events were detected, based on transitions from 0 to 1 in the Fail column.\n",
    "- Additionally, 9 failure resolutions were identified by transitions from 1 to 0.\n",
    "- This indicates that one failure was still active at the end of the recorded data, which may suggest an ongoing issue or an incomplete recovery log."
   ]
  },
  {
   "cell_type": "markdown",
   "metadata": {},
   "source": [
    "### **🟥 TASK 2**\n",
    "- Categorize equipment failures by setup configurations (Preset 1 and Preset 2).\n",
    "    - How do the variables Preset_1 and Preset_2 behave during operation? What insights can we derive from these variables?"
   ]
  },
  {
   "cell_type": "code",
   "execution_count": null,
   "metadata": {},
   "outputs": [],
   "source": []
  },
  {
   "cell_type": "markdown",
   "metadata": {},
   "source": [
    "### **🟥 TASK 3**\n",
    "- Categorize equipment failures by their nature/root cause according to parameter readings (temperature, pressure, and others).\n",
    "    - Analyze patterns in these readings that could indicate specific failure types. How do these patterns differ across operational regimes? Provide insights based on your findings."
   ]
  },
  {
   "cell_type": "code",
   "execution_count": null,
   "metadata": {},
   "outputs": [],
   "source": []
  },
  {
   "cell_type": "markdown",
   "metadata": {},
   "source": [
    "### **🟥 TASK 4**\n",
    "- Create a model (or models) using the technique you think is most appropriate and measure its performance.\n",
    "    - Based on the given time-series dataset, which models or techniques are suitable for predicting whether the equipment will fail before it occurs? Additionally, how can the model's performance be tuned and measured for this task?"
   ]
  },
  {
   "cell_type": "code",
   "execution_count": null,
   "metadata": {},
   "outputs": [],
   "source": []
  },
  {
   "cell_type": "markdown",
   "metadata": {},
   "source": [
    "### **🟥 TASK 5**\n",
    "- Analyze variable importance.\n",
    "    - After developing a model, how can we determine which variables had the greatest impact on the prediction?"
   ]
  },
  {
   "cell_type": "code",
   "execution_count": null,
   "metadata": {},
   "outputs": [],
   "source": []
  }
 ],
 "metadata": {
  "kernelspec": {
   "display_name": "Python 3",
   "language": "python",
   "name": "python3"
  },
  "language_info": {
   "codemirror_mode": {
    "name": "ipython",
    "version": 3
   },
   "file_extension": ".py",
   "mimetype": "text/x-python",
   "name": "python",
   "nbconvert_exporter": "python",
   "pygments_lexer": "ipython3",
   "version": "3.11.11"
  }
 },
 "nbformat": 4,
 "nbformat_minor": 2
}
