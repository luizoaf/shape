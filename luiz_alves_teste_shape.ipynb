{
 "cells": [
  {
   "cell_type": "markdown",
   "metadata": {},
   "source": [
    "### **Tasks**\n",
    "1. Calculate how many times the equipment has failed.\n",
    "During the FPSO’s operation, various factors can cause the machine to fail and prolong its failure state. We ask you to explore the available data, identify, and calculate the number of times the equipment has failed throughout its operation.\n",
    "2. Categorize equipment failures by setup configurations (Preset 1 and Preset 2).\n",
    "How do the variables Preset_1 and Preset_2 behave during operation? What insights can we derive from these variables?\n",
    "3. Categorize equipment failures by their nature/root cause according to parameter readings (temperature, pressure, and others).\n",
    "Analyze patterns in these readings that could indicate specific failure types. How do these patterns differ across operational regimes? Provide insights based on your findings.\n",
    "4. Create a model (or models) using the technique you think is most appropriate and measure its performance.\n",
    "Based on the given time-series dataset, which models or techniques are suitable for predicting whether the equipment will fail before it occurs? Additionally, how can the model's performance be tuned and measured for this task?\n",
    "5. Analyze variable importance.\n",
    "After developing a model, how can we determine which variables had the greatest impact on the prediction?"
   ]
  },
  {
   "cell_type": "markdown",
   "metadata": {},
   "source": [
    "### **0. Global Variables**"
   ]
  },
  {
   "cell_type": "code",
   "execution_count": null,
   "metadata": {},
   "outputs": [],
   "source": []
  },
  {
   "cell_type": "markdown",
   "metadata": {},
   "source": [
    "### **1. Library Imports**"
   ]
  },
  {
   "cell_type": "code",
   "execution_count": 1,
   "metadata": {},
   "outputs": [],
   "source": [
    "import pandas as pd \n",
    "import matplotlib.pyplot as plt"
   ]
  },
  {
   "cell_type": "markdown",
   "metadata": {},
   "source": [
    "### **2. Dataset**\n",
    "\n",
    "The dataset contains anonymized time series records of a machine's operation from an FPSO. The recorded variables are as follows:\n",
    "1.\tCycle: Sequential identifier of measurement cycles.\n",
    "2.\tPreset_1 & Preset_2: Variables that control a specific operating point of the machine.\n",
    "3.\tTemperature: Temperature recorded in the equipment.\n",
    "4.\tVibrations (X, Y & Z): Vibrations along the machine's axes.\n",
    "5.\tFrequency: Operating frequency of the machine.\n",
    "6.\tFail: Variable indicating whether the machine is in a failure state at the given timestamp."
   ]
  },
  {
   "cell_type": "markdown",
   "metadata": {},
   "source": [
    "#### **2.1 Data Loading**"
   ]
  },
  {
   "cell_type": "code",
   "execution_count": 2,
   "metadata": {},
   "outputs": [
    {
     "name": "stdout",
     "output_type": "stream",
     "text": [
      "(800, 10)\n"
     ]
    },
    {
     "data": {
      "application/vnd.microsoft.datawrangler.viewer.v0+json": {
       "columns": [
        {
         "name": "index",
         "rawType": "int64",
         "type": "integer"
        },
        {
         "name": "Cycle",
         "rawType": "int64",
         "type": "integer"
        },
        {
         "name": "Preset_1",
         "rawType": "int64",
         "type": "integer"
        },
        {
         "name": "Preset_2",
         "rawType": "int64",
         "type": "integer"
        },
        {
         "name": "Temperature",
         "rawType": "float64",
         "type": "float"
        },
        {
         "name": "Pressure",
         "rawType": "float64",
         "type": "float"
        },
        {
         "name": "VibrationX",
         "rawType": "float64",
         "type": "float"
        },
        {
         "name": "VibrationY",
         "rawType": "float64",
         "type": "float"
        },
        {
         "name": "VibrationZ",
         "rawType": "float64",
         "type": "float"
        },
        {
         "name": "Frequency",
         "rawType": "float64",
         "type": "float"
        },
        {
         "name": "Fail",
         "rawType": "bool",
         "type": "boolean"
        }
       ],
       "ref": "440ec351-961e-4604-aec6-89d2621435fc",
       "rows": [
        [
         "0",
         "1",
         "3",
         "6",
         "44.23518586415284",
         "47.65725354833926",
         "46.44176923068589",
         "64.82032657891138",
         "66.45451956495226",
         "44.48324980824037",
         "False"
        ],
        [
         "1",
         "2",
         "2",
         "4",
         "60.807234448796294",
         "63.17207576842222",
         "62.00595106708013",
         "80.71443106372683",
         "81.2464046543589",
         "60.228714793422036",
         "False"
        ],
        [
         "2",
         "3",
         "2",
         "1",
         "79.02753565280922",
         "83.03218967065293",
         "82.64210959422543",
         "98.2543855725768",
         "98.78519593981386",
         "80.99347914594966",
         "False"
        ],
        [
         "3",
         "4",
         "2",
         "3",
         "79.71624156697328",
         "100.5086344886615",
         "122.36232148005857",
         "121.36342870189367",
         "118.65253755569158",
         "80.31556651280096",
         "False"
        ],
        [
         "4",
         "5",
         "2",
         "5",
         "39.98905447038245",
         "51.76483343470046",
         "42.51430194833384",
         "61.03791021641865",
         "50.716468799909116",
         "64.24516587048186",
         "False"
        ]
       ],
       "shape": {
        "columns": 10,
        "rows": 5
       }
      },
      "text/html": [
       "<div>\n",
       "<style scoped>\n",
       "    .dataframe tbody tr th:only-of-type {\n",
       "        vertical-align: middle;\n",
       "    }\n",
       "\n",
       "    .dataframe tbody tr th {\n",
       "        vertical-align: top;\n",
       "    }\n",
       "\n",
       "    .dataframe thead th {\n",
       "        text-align: right;\n",
       "    }\n",
       "</style>\n",
       "<table border=\"1\" class=\"dataframe\">\n",
       "  <thead>\n",
       "    <tr style=\"text-align: right;\">\n",
       "      <th></th>\n",
       "      <th>Cycle</th>\n",
       "      <th>Preset_1</th>\n",
       "      <th>Preset_2</th>\n",
       "      <th>Temperature</th>\n",
       "      <th>Pressure</th>\n",
       "      <th>VibrationX</th>\n",
       "      <th>VibrationY</th>\n",
       "      <th>VibrationZ</th>\n",
       "      <th>Frequency</th>\n",
       "      <th>Fail</th>\n",
       "    </tr>\n",
       "  </thead>\n",
       "  <tbody>\n",
       "    <tr>\n",
       "      <th>0</th>\n",
       "      <td>1</td>\n",
       "      <td>3</td>\n",
       "      <td>6</td>\n",
       "      <td>44.235186</td>\n",
       "      <td>47.657254</td>\n",
       "      <td>46.441769</td>\n",
       "      <td>64.820327</td>\n",
       "      <td>66.454520</td>\n",
       "      <td>44.483250</td>\n",
       "      <td>False</td>\n",
       "    </tr>\n",
       "    <tr>\n",
       "      <th>1</th>\n",
       "      <td>2</td>\n",
       "      <td>2</td>\n",
       "      <td>4</td>\n",
       "      <td>60.807234</td>\n",
       "      <td>63.172076</td>\n",
       "      <td>62.005951</td>\n",
       "      <td>80.714431</td>\n",
       "      <td>81.246405</td>\n",
       "      <td>60.228715</td>\n",
       "      <td>False</td>\n",
       "    </tr>\n",
       "    <tr>\n",
       "      <th>2</th>\n",
       "      <td>3</td>\n",
       "      <td>2</td>\n",
       "      <td>1</td>\n",
       "      <td>79.027536</td>\n",
       "      <td>83.032190</td>\n",
       "      <td>82.642110</td>\n",
       "      <td>98.254386</td>\n",
       "      <td>98.785196</td>\n",
       "      <td>80.993479</td>\n",
       "      <td>False</td>\n",
       "    </tr>\n",
       "    <tr>\n",
       "      <th>3</th>\n",
       "      <td>4</td>\n",
       "      <td>2</td>\n",
       "      <td>3</td>\n",
       "      <td>79.716242</td>\n",
       "      <td>100.508634</td>\n",
       "      <td>122.362321</td>\n",
       "      <td>121.363429</td>\n",
       "      <td>118.652538</td>\n",
       "      <td>80.315567</td>\n",
       "      <td>False</td>\n",
       "    </tr>\n",
       "    <tr>\n",
       "      <th>4</th>\n",
       "      <td>5</td>\n",
       "      <td>2</td>\n",
       "      <td>5</td>\n",
       "      <td>39.989054</td>\n",
       "      <td>51.764833</td>\n",
       "      <td>42.514302</td>\n",
       "      <td>61.037910</td>\n",
       "      <td>50.716469</td>\n",
       "      <td>64.245166</td>\n",
       "      <td>False</td>\n",
       "    </tr>\n",
       "  </tbody>\n",
       "</table>\n",
       "</div>"
      ],
      "text/plain": [
       "   Cycle  Preset_1  Preset_2  Temperature    Pressure  VibrationX  VibrationY  \\\n",
       "0      1         3         6    44.235186   47.657254   46.441769   64.820327   \n",
       "1      2         2         4    60.807234   63.172076   62.005951   80.714431   \n",
       "2      3         2         1    79.027536   83.032190   82.642110   98.254386   \n",
       "3      4         2         3    79.716242  100.508634  122.362321  121.363429   \n",
       "4      5         2         5    39.989054   51.764833   42.514302   61.037910   \n",
       "\n",
       "   VibrationZ  Frequency   Fail  \n",
       "0   66.454520  44.483250  False  \n",
       "1   81.246405  60.228715  False  \n",
       "2   98.785196  80.993479  False  \n",
       "3  118.652538  80.315567  False  \n",
       "4   50.716469  64.245166  False  "
      ]
     },
     "execution_count": 2,
     "metadata": {},
     "output_type": "execute_result"
    }
   ],
   "source": [
    "df = pd.read_excel(\"Test O_G_Equipment_Data.xlsx\")\n",
    "print(df.shape)\n",
    "df.head()"
   ]
  },
  {
   "cell_type": "markdown",
   "metadata": {},
   "source": [
    "#### **2.2 Data Quality Check**"
   ]
  },
  {
   "cell_type": "markdown",
   "metadata": {},
   "source": [
    "#### **2.2.1 Missing Values Check**"
   ]
  },
  {
   "cell_type": "code",
   "execution_count": 3,
   "metadata": {},
   "outputs": [
    {
     "data": {
      "application/vnd.microsoft.datawrangler.viewer.v0+json": {
       "columns": [
        {
         "name": "index",
         "rawType": "object",
         "type": "string"
        },
        {
         "name": "0",
         "rawType": "int64",
         "type": "integer"
        }
       ],
       "ref": "e5e1dc2d-ab29-4097-a977-9cbd2cb57b6c",
       "rows": [
        [
         "Cycle",
         "0"
        ],
        [
         "Preset_1",
         "0"
        ],
        [
         "Preset_2",
         "0"
        ],
        [
         "Temperature",
         "0"
        ],
        [
         "Pressure",
         "0"
        ],
        [
         "VibrationX",
         "0"
        ],
        [
         "VibrationY",
         "0"
        ],
        [
         "VibrationZ",
         "0"
        ],
        [
         "Frequency",
         "0"
        ],
        [
         "Fail",
         "0"
        ]
       ],
       "shape": {
        "columns": 1,
        "rows": 10
       }
      },
      "text/plain": [
       "Cycle          0\n",
       "Preset_1       0\n",
       "Preset_2       0\n",
       "Temperature    0\n",
       "Pressure       0\n",
       "VibrationX     0\n",
       "VibrationY     0\n",
       "VibrationZ     0\n",
       "Frequency      0\n",
       "Fail           0\n",
       "dtype: int64"
      ]
     },
     "execution_count": 3,
     "metadata": {},
     "output_type": "execute_result"
    }
   ],
   "source": [
    "df.isnull().sum()"
   ]
  },
  {
   "cell_type": "markdown",
   "metadata": {},
   "source": [
    "#### **2.2.2 Duplicate Check**"
   ]
  },
  {
   "cell_type": "code",
   "execution_count": 4,
   "metadata": {},
   "outputs": [
    {
     "name": "stdout",
     "output_type": "stream",
     "text": [
      "Duplicated columns: []\n",
      "Number of duplicated rows: 0\n"
     ]
    }
   ],
   "source": [
    "# Check for duplicated columns in the DataFrame\n",
    "duplicated_columns = df.columns[df.columns.duplicated()]\n",
    "\n",
    "# Check for duplicated rows in the DataFrame\n",
    "number_of_duplicated_rows = df.duplicated().sum()\n",
    "\n",
    "# Display the results\n",
    "print(\"Duplicated columns:\", list(duplicated_columns))\n",
    "print(\"Number of duplicated rows:\", number_of_duplicated_rows)\n"
   ]
  },
  {
   "cell_type": "markdown",
   "metadata": {},
   "source": [
    "#### **2.2.3 Feature Uniqueness Check**"
   ]
  },
  {
   "cell_type": "code",
   "execution_count": 5,
   "metadata": {},
   "outputs": [
    {
     "data": {
      "application/vnd.microsoft.datawrangler.viewer.v0+json": {
       "columns": [
        {
         "name": "index",
         "rawType": "object",
         "type": "string"
        },
        {
         "name": "0",
         "rawType": "int64",
         "type": "integer"
        }
       ],
       "ref": "a74abb60-01c9-453e-bc27-d52408d24b9a",
       "rows": [
        [
         "Cycle",
         "800"
        ],
        [
         "Preset_1",
         "3"
        ],
        [
         "Preset_2",
         "8"
        ],
        [
         "Temperature",
         "800"
        ],
        [
         "Pressure",
         "800"
        ],
        [
         "VibrationX",
         "800"
        ],
        [
         "VibrationY",
         "800"
        ],
        [
         "VibrationZ",
         "800"
        ],
        [
         "Frequency",
         "800"
        ],
        [
         "Fail",
         "2"
        ]
       ],
       "shape": {
        "columns": 1,
        "rows": 10
       }
      },
      "text/plain": [
       "Cycle          800\n",
       "Preset_1         3\n",
       "Preset_2         8\n",
       "Temperature    800\n",
       "Pressure       800\n",
       "VibrationX     800\n",
       "VibrationY     800\n",
       "VibrationZ     800\n",
       "Frequency      800\n",
       "Fail             2\n",
       "dtype: int64"
      ]
     },
     "execution_count": 5,
     "metadata": {},
     "output_type": "execute_result"
    }
   ],
   "source": [
    "df.nunique()"
   ]
  },
  {
   "cell_type": "markdown",
   "metadata": {},
   "source": [
    "### **🟥 TASK 1**\n",
    "- Calculate how many times the equipment has failed.\n",
    "    - During the FPSO’s operation, various factors can cause the machine to fail and prolong its failure state. We ask you to explore the available data, identify, and calculate the number of times the equipment has failed throughout its operation.\n"
   ]
  },
  {
   "cell_type": "code",
   "execution_count": 6,
   "metadata": {},
   "outputs": [
    {
     "data": {
      "application/vnd.microsoft.datawrangler.viewer.v0+json": {
       "columns": [
        {
         "name": "Fail",
         "rawType": "int64",
         "type": "integer"
        },
        {
         "name": "count",
         "rawType": "int64",
         "type": "integer"
        }
       ],
       "ref": "f8cc4920-0f74-42e3-bf13-0f141cefd9e1",
       "rows": [
        [
         "0",
         "734"
        ],
        [
         "1",
         "66"
        ]
       ],
       "shape": {
        "columns": 1,
        "rows": 2
       }
      },
      "text/plain": [
       "Fail\n",
       "0    734\n",
       "1     66\n",
       "Name: count, dtype: int64"
      ]
     },
     "execution_count": 6,
     "metadata": {},
     "output_type": "execute_result"
    }
   ],
   "source": [
    "df[\"Fail\"] = df[\"Fail\"].astype(int)\n",
    "\n",
    "# Counts the number of normal (0) and failure (1) states\n",
    "df[\"Fail\"].value_counts()"
   ]
  },
  {
   "cell_type": "code",
   "execution_count": 7,
   "metadata": {},
   "outputs": [
    {
     "name": "stdout",
     "output_type": "stream",
     "text": [
      "Number of equipment failures: 10\n",
      "Number of resolved equipment failures: 9\n"
     ]
    }
   ],
   "source": [
    "# A new failure is counted when the 'Fail' column transitions from 0 to 1\n",
    "df[\"New_fail\"] = df[\"Fail\"].diff() == 1\n",
    "df[\"New_fail\"] = df[\"New_fail\"].astype(int)\n",
    "\n",
    "# A failure is considered resolved when the 'Fail' column transitions from 1 to 0\n",
    "df[\"Resolved_fail\"] = (df[\"Fail\"].diff() == -1).astype(int)\n",
    "\n",
    "print(\"Number of equipment failures:\", df[\"New_fail\"].sum())\n",
    "print(\"Number of resolved equipment failures:\", df[\"Resolved_fail\"].sum())"
   ]
  },
  {
   "cell_type": "markdown",
   "metadata": {},
   "source": [
    "#### **Task 1: Answer**\n",
    "- A total of 10 distinct failure events were detected, based on transitions from 0 to 1 in the Fail column.\n",
    "- Additionally, 9 failure resolutions were identified by transitions from 1 to 0.\n",
    "- This indicates that one failure was still active at the end of the recorded data, which may suggest an ongoing issue or an incomplete recovery log."
   ]
  },
  {
   "cell_type": "markdown",
   "metadata": {},
   "source": [
    "### **🟥 TASK 2**\n",
    "- Categorize equipment failures by setup configurations (Preset 1 and Preset 2).\n",
    "    - How do the variables Preset_1 and Preset_2 behave during operation? What insights can we derive from these variables?"
   ]
  },
  {
   "cell_type": "code",
   "execution_count": 8,
   "metadata": {},
   "outputs": [],
   "source": [
    "# Calculates failure rate and share of failures for a categorical column\n",
    "def analyze_failure_rate(df: pd.DataFrame, column: str) -> pd.DataFrame:\n",
    "    total = df[column].value_counts().rename(\"total\")\n",
    "    failures = df[df[\"Fail\"] == 1][column].value_counts().rename(\"failures\")\n",
    "    result = pd.concat([total, failures], axis=1).fillna(0)\n",
    "    result[\"failures\"] = result[\"failures\"].astype(int)\n",
    "    result[\"failure_rate\"] = (result[\"failures\"] / result[\"total\"]).round(4)\n",
    "    # Share of total failures\n",
    "    result[\"failure_share\"] = (\n",
    "        result[\"failures\"] / result[\"failures\"].sum()\n",
    "    ).round(4)\n",
    "    result = (\n",
    "        result.sort_values(\"failure_rate\", ascending=False)\n",
    "        .reset_index()\n",
    "        .rename(columns={\"index\": column})\n",
    "    )\n",
    "    return result\n",
    "\n",
    "# Individual analysis for each preset\n",
    "table_preset_1 = analyze_failure_rate(df, \"Preset_1\")\n",
    "table_preset_2 = analyze_failure_rate(df, \"Preset_2\")\n",
    "\n",
    "# Combined analysis for both presets\n",
    "df[\"Preset_Combined\"] = \"Preset_1=\" + df[\"Preset_1\"].astype(str) + \", Preset_2=\" + df[\"Preset_2\"].astype(str)\n",
    "table_combined = analyze_failure_rate(df, \"Preset_Combined\")"
   ]
  },
  {
   "cell_type": "code",
   "execution_count": 9,
   "metadata": {},
   "outputs": [
    {
     "data": {
      "application/vnd.microsoft.datawrangler.viewer.v0+json": {
       "columns": [
        {
         "name": "index",
         "rawType": "int64",
         "type": "integer"
        },
        {
         "name": "Preset_1",
         "rawType": "int64",
         "type": "integer"
        },
        {
         "name": "total",
         "rawType": "int64",
         "type": "integer"
        },
        {
         "name": "failures",
         "rawType": "int64",
         "type": "integer"
        },
        {
         "name": "failure_rate",
         "rawType": "float64",
         "type": "float"
        },
        {
         "name": "failure_share",
         "rawType": "float64",
         "type": "float"
        }
       ],
       "ref": "365d6bfa-0c0e-4065-a9a0-66446ca3af31",
       "rows": [
        [
         "0",
         "1",
         "264",
         "27",
         "0.1023",
         "0.4091"
        ],
        [
         "1",
         "2",
         "281",
         "21",
         "0.0747",
         "0.3182"
        ],
        [
         "2",
         "3",
         "255",
         "18",
         "0.0706",
         "0.2727"
        ]
       ],
       "shape": {
        "columns": 5,
        "rows": 3
       }
      },
      "text/html": [
       "<div>\n",
       "<style scoped>\n",
       "    .dataframe tbody tr th:only-of-type {\n",
       "        vertical-align: middle;\n",
       "    }\n",
       "\n",
       "    .dataframe tbody tr th {\n",
       "        vertical-align: top;\n",
       "    }\n",
       "\n",
       "    .dataframe thead th {\n",
       "        text-align: right;\n",
       "    }\n",
       "</style>\n",
       "<table border=\"1\" class=\"dataframe\">\n",
       "  <thead>\n",
       "    <tr style=\"text-align: right;\">\n",
       "      <th></th>\n",
       "      <th>Preset_1</th>\n",
       "      <th>total</th>\n",
       "      <th>failures</th>\n",
       "      <th>failure_rate</th>\n",
       "      <th>failure_share</th>\n",
       "    </tr>\n",
       "  </thead>\n",
       "  <tbody>\n",
       "    <tr>\n",
       "      <th>0</th>\n",
       "      <td>1</td>\n",
       "      <td>264</td>\n",
       "      <td>27</td>\n",
       "      <td>0.1023</td>\n",
       "      <td>0.4091</td>\n",
       "    </tr>\n",
       "    <tr>\n",
       "      <th>1</th>\n",
       "      <td>2</td>\n",
       "      <td>281</td>\n",
       "      <td>21</td>\n",
       "      <td>0.0747</td>\n",
       "      <td>0.3182</td>\n",
       "    </tr>\n",
       "    <tr>\n",
       "      <th>2</th>\n",
       "      <td>3</td>\n",
       "      <td>255</td>\n",
       "      <td>18</td>\n",
       "      <td>0.0706</td>\n",
       "      <td>0.2727</td>\n",
       "    </tr>\n",
       "  </tbody>\n",
       "</table>\n",
       "</div>"
      ],
      "text/plain": [
       "   Preset_1  total  failures  failure_rate  failure_share\n",
       "0         1    264        27        0.1023         0.4091\n",
       "1         2    281        21        0.0747         0.3182\n",
       "2         3    255        18        0.0706         0.2727"
      ]
     },
     "execution_count": 9,
     "metadata": {},
     "output_type": "execute_result"
    }
   ],
   "source": [
    "table_preset_1"
   ]
  },
  {
   "cell_type": "code",
   "execution_count": 10,
   "metadata": {},
   "outputs": [
    {
     "data": {
      "application/vnd.microsoft.datawrangler.viewer.v0+json": {
       "columns": [
        {
         "name": "index",
         "rawType": "int64",
         "type": "integer"
        },
        {
         "name": "Preset_2",
         "rawType": "int64",
         "type": "integer"
        },
        {
         "name": "total",
         "rawType": "int64",
         "type": "integer"
        },
        {
         "name": "failures",
         "rawType": "int64",
         "type": "integer"
        },
        {
         "name": "failure_rate",
         "rawType": "float64",
         "type": "float"
        },
        {
         "name": "failure_share",
         "rawType": "float64",
         "type": "float"
        }
       ],
       "ref": "4e103b24-656a-4eea-b03a-132801087c4b",
       "rows": [
        [
         "0",
         "5",
         "100",
         "12",
         "0.12",
         "0.1818"
        ],
        [
         "1",
         "1",
         "95",
         "11",
         "0.1158",
         "0.1667"
        ],
        [
         "2",
         "6",
         "101",
         "9",
         "0.0891",
         "0.1364"
        ],
        [
         "3",
         "2",
         "101",
         "9",
         "0.0891",
         "0.1364"
        ],
        [
         "4",
         "7",
         "109",
         "9",
         "0.0826",
         "0.1364"
        ],
        [
         "5",
         "8",
         "100",
         "7",
         "0.07",
         "0.1061"
        ],
        [
         "6",
         "3",
         "101",
         "6",
         "0.0594",
         "0.0909"
        ],
        [
         "7",
         "4",
         "93",
         "3",
         "0.0323",
         "0.0455"
        ]
       ],
       "shape": {
        "columns": 5,
        "rows": 8
       }
      },
      "text/html": [
       "<div>\n",
       "<style scoped>\n",
       "    .dataframe tbody tr th:only-of-type {\n",
       "        vertical-align: middle;\n",
       "    }\n",
       "\n",
       "    .dataframe tbody tr th {\n",
       "        vertical-align: top;\n",
       "    }\n",
       "\n",
       "    .dataframe thead th {\n",
       "        text-align: right;\n",
       "    }\n",
       "</style>\n",
       "<table border=\"1\" class=\"dataframe\">\n",
       "  <thead>\n",
       "    <tr style=\"text-align: right;\">\n",
       "      <th></th>\n",
       "      <th>Preset_2</th>\n",
       "      <th>total</th>\n",
       "      <th>failures</th>\n",
       "      <th>failure_rate</th>\n",
       "      <th>failure_share</th>\n",
       "    </tr>\n",
       "  </thead>\n",
       "  <tbody>\n",
       "    <tr>\n",
       "      <th>0</th>\n",
       "      <td>5</td>\n",
       "      <td>100</td>\n",
       "      <td>12</td>\n",
       "      <td>0.1200</td>\n",
       "      <td>0.1818</td>\n",
       "    </tr>\n",
       "    <tr>\n",
       "      <th>1</th>\n",
       "      <td>1</td>\n",
       "      <td>95</td>\n",
       "      <td>11</td>\n",
       "      <td>0.1158</td>\n",
       "      <td>0.1667</td>\n",
       "    </tr>\n",
       "    <tr>\n",
       "      <th>2</th>\n",
       "      <td>6</td>\n",
       "      <td>101</td>\n",
       "      <td>9</td>\n",
       "      <td>0.0891</td>\n",
       "      <td>0.1364</td>\n",
       "    </tr>\n",
       "    <tr>\n",
       "      <th>3</th>\n",
       "      <td>2</td>\n",
       "      <td>101</td>\n",
       "      <td>9</td>\n",
       "      <td>0.0891</td>\n",
       "      <td>0.1364</td>\n",
       "    </tr>\n",
       "    <tr>\n",
       "      <th>4</th>\n",
       "      <td>7</td>\n",
       "      <td>109</td>\n",
       "      <td>9</td>\n",
       "      <td>0.0826</td>\n",
       "      <td>0.1364</td>\n",
       "    </tr>\n",
       "    <tr>\n",
       "      <th>5</th>\n",
       "      <td>8</td>\n",
       "      <td>100</td>\n",
       "      <td>7</td>\n",
       "      <td>0.0700</td>\n",
       "      <td>0.1061</td>\n",
       "    </tr>\n",
       "    <tr>\n",
       "      <th>6</th>\n",
       "      <td>3</td>\n",
       "      <td>101</td>\n",
       "      <td>6</td>\n",
       "      <td>0.0594</td>\n",
       "      <td>0.0909</td>\n",
       "    </tr>\n",
       "    <tr>\n",
       "      <th>7</th>\n",
       "      <td>4</td>\n",
       "      <td>93</td>\n",
       "      <td>3</td>\n",
       "      <td>0.0323</td>\n",
       "      <td>0.0455</td>\n",
       "    </tr>\n",
       "  </tbody>\n",
       "</table>\n",
       "</div>"
      ],
      "text/plain": [
       "   Preset_2  total  failures  failure_rate  failure_share\n",
       "0         5    100        12        0.1200         0.1818\n",
       "1         1     95        11        0.1158         0.1667\n",
       "2         6    101         9        0.0891         0.1364\n",
       "3         2    101         9        0.0891         0.1364\n",
       "4         7    109         9        0.0826         0.1364\n",
       "5         8    100         7        0.0700         0.1061\n",
       "6         3    101         6        0.0594         0.0909\n",
       "7         4     93         3        0.0323         0.0455"
      ]
     },
     "execution_count": 10,
     "metadata": {},
     "output_type": "execute_result"
    }
   ],
   "source": [
    "table_preset_2"
   ]
  },
  {
   "cell_type": "code",
   "execution_count": 11,
   "metadata": {},
   "outputs": [
    {
     "data": {
      "application/vnd.microsoft.datawrangler.viewer.v0+json": {
       "columns": [
        {
         "name": "index",
         "rawType": "int64",
         "type": "integer"
        },
        {
         "name": "Preset_Combined",
         "rawType": "object",
         "type": "string"
        },
        {
         "name": "total",
         "rawType": "int64",
         "type": "integer"
        },
        {
         "name": "failures",
         "rawType": "int64",
         "type": "integer"
        },
        {
         "name": "failure_rate",
         "rawType": "float64",
         "type": "float"
        },
        {
         "name": "failure_share",
         "rawType": "float64",
         "type": "float"
        }
       ],
       "ref": "c5eab756-a3e3-446c-bc12-3b6438dbc911",
       "rows": [
        [
         "0",
         "Preset_1=1, Preset_2=5",
         "31",
         "5",
         "0.1613",
         "0.0758"
        ],
        [
         "1",
         "Preset_1=3, Preset_2=5",
         "29",
         "4",
         "0.1379",
         "0.0606"
        ],
        [
         "2",
         "Preset_1=2, Preset_2=1",
         "30",
         "4",
         "0.1333",
         "0.0606"
        ],
        [
         "3",
         "Preset_1=1, Preset_2=2",
         "38",
         "5",
         "0.1316",
         "0.0758"
        ],
        [
         "4",
         "Preset_1=1, Preset_2=1",
         "34",
         "4",
         "0.1176",
         "0.0606"
        ],
        [
         "5",
         "Preset_1=2, Preset_2=8",
         "37",
         "4",
         "0.1081",
         "0.0606"
        ],
        [
         "6",
         "Preset_1=1, Preset_2=7",
         "38",
         "4",
         "0.1053",
         "0.0606"
        ],
        [
         "7",
         "Preset_1=3, Preset_2=6",
         "30",
         "3",
         "0.1",
         "0.0455"
        ],
        [
         "8",
         "Preset_1=3, Preset_2=1",
         "31",
         "3",
         "0.0968",
         "0.0455"
        ],
        [
         "9",
         "Preset_1=1, Preset_2=4",
         "22",
         "2",
         "0.0909",
         "0.0303"
        ],
        [
         "10",
         "Preset_1=3, Preset_2=7",
         "34",
         "3",
         "0.0882",
         "0.0455"
        ],
        [
         "11",
         "Preset_1=1, Preset_2=6",
         "34",
         "3",
         "0.0882",
         "0.0455"
        ],
        [
         "12",
         "Preset_1=1, Preset_2=8",
         "24",
         "2",
         "0.0833",
         "0.0303"
        ],
        [
         "13",
         "Preset_1=2, Preset_2=6",
         "37",
         "3",
         "0.0811",
         "0.0455"
        ],
        [
         "14",
         "Preset_1=2, Preset_2=3",
         "26",
         "2",
         "0.0769",
         "0.0303"
        ],
        [
         "15",
         "Preset_1=2, Preset_2=5",
         "40",
         "3",
         "0.075",
         "0.0455"
        ],
        [
         "16",
         "Preset_1=3, Preset_2=2",
         "29",
         "2",
         "0.069",
         "0.0303"
        ],
        [
         "17",
         "Preset_1=3, Preset_2=3",
         "32",
         "2",
         "0.0625",
         "0.0303"
        ],
        [
         "18",
         "Preset_1=2, Preset_2=2",
         "34",
         "2",
         "0.0588",
         "0.0303"
        ],
        [
         "19",
         "Preset_1=2, Preset_2=7",
         "37",
         "2",
         "0.0541",
         "0.0303"
        ],
        [
         "20",
         "Preset_1=1, Preset_2=3",
         "43",
         "2",
         "0.0465",
         "0.0303"
        ],
        [
         "21",
         "Preset_1=3, Preset_2=8",
         "39",
         "1",
         "0.0256",
         "0.0152"
        ],
        [
         "22",
         "Preset_1=2, Preset_2=4",
         "40",
         "1",
         "0.025",
         "0.0152"
        ],
        [
         "23",
         "Preset_1=3, Preset_2=4",
         "31",
         "0",
         "0.0",
         "0.0"
        ]
       ],
       "shape": {
        "columns": 5,
        "rows": 24
       }
      },
      "text/html": [
       "<div>\n",
       "<style scoped>\n",
       "    .dataframe tbody tr th:only-of-type {\n",
       "        vertical-align: middle;\n",
       "    }\n",
       "\n",
       "    .dataframe tbody tr th {\n",
       "        vertical-align: top;\n",
       "    }\n",
       "\n",
       "    .dataframe thead th {\n",
       "        text-align: right;\n",
       "    }\n",
       "</style>\n",
       "<table border=\"1\" class=\"dataframe\">\n",
       "  <thead>\n",
       "    <tr style=\"text-align: right;\">\n",
       "      <th></th>\n",
       "      <th>Preset_Combined</th>\n",
       "      <th>total</th>\n",
       "      <th>failures</th>\n",
       "      <th>failure_rate</th>\n",
       "      <th>failure_share</th>\n",
       "    </tr>\n",
       "  </thead>\n",
       "  <tbody>\n",
       "    <tr>\n",
       "      <th>0</th>\n",
       "      <td>Preset_1=1, Preset_2=5</td>\n",
       "      <td>31</td>\n",
       "      <td>5</td>\n",
       "      <td>0.1613</td>\n",
       "      <td>0.0758</td>\n",
       "    </tr>\n",
       "    <tr>\n",
       "      <th>1</th>\n",
       "      <td>Preset_1=3, Preset_2=5</td>\n",
       "      <td>29</td>\n",
       "      <td>4</td>\n",
       "      <td>0.1379</td>\n",
       "      <td>0.0606</td>\n",
       "    </tr>\n",
       "    <tr>\n",
       "      <th>2</th>\n",
       "      <td>Preset_1=2, Preset_2=1</td>\n",
       "      <td>30</td>\n",
       "      <td>4</td>\n",
       "      <td>0.1333</td>\n",
       "      <td>0.0606</td>\n",
       "    </tr>\n",
       "    <tr>\n",
       "      <th>3</th>\n",
       "      <td>Preset_1=1, Preset_2=2</td>\n",
       "      <td>38</td>\n",
       "      <td>5</td>\n",
       "      <td>0.1316</td>\n",
       "      <td>0.0758</td>\n",
       "    </tr>\n",
       "    <tr>\n",
       "      <th>4</th>\n",
       "      <td>Preset_1=1, Preset_2=1</td>\n",
       "      <td>34</td>\n",
       "      <td>4</td>\n",
       "      <td>0.1176</td>\n",
       "      <td>0.0606</td>\n",
       "    </tr>\n",
       "    <tr>\n",
       "      <th>5</th>\n",
       "      <td>Preset_1=2, Preset_2=8</td>\n",
       "      <td>37</td>\n",
       "      <td>4</td>\n",
       "      <td>0.1081</td>\n",
       "      <td>0.0606</td>\n",
       "    </tr>\n",
       "    <tr>\n",
       "      <th>6</th>\n",
       "      <td>Preset_1=1, Preset_2=7</td>\n",
       "      <td>38</td>\n",
       "      <td>4</td>\n",
       "      <td>0.1053</td>\n",
       "      <td>0.0606</td>\n",
       "    </tr>\n",
       "    <tr>\n",
       "      <th>7</th>\n",
       "      <td>Preset_1=3, Preset_2=6</td>\n",
       "      <td>30</td>\n",
       "      <td>3</td>\n",
       "      <td>0.1000</td>\n",
       "      <td>0.0455</td>\n",
       "    </tr>\n",
       "    <tr>\n",
       "      <th>8</th>\n",
       "      <td>Preset_1=3, Preset_2=1</td>\n",
       "      <td>31</td>\n",
       "      <td>3</td>\n",
       "      <td>0.0968</td>\n",
       "      <td>0.0455</td>\n",
       "    </tr>\n",
       "    <tr>\n",
       "      <th>9</th>\n",
       "      <td>Preset_1=1, Preset_2=4</td>\n",
       "      <td>22</td>\n",
       "      <td>2</td>\n",
       "      <td>0.0909</td>\n",
       "      <td>0.0303</td>\n",
       "    </tr>\n",
       "    <tr>\n",
       "      <th>10</th>\n",
       "      <td>Preset_1=3, Preset_2=7</td>\n",
       "      <td>34</td>\n",
       "      <td>3</td>\n",
       "      <td>0.0882</td>\n",
       "      <td>0.0455</td>\n",
       "    </tr>\n",
       "    <tr>\n",
       "      <th>11</th>\n",
       "      <td>Preset_1=1, Preset_2=6</td>\n",
       "      <td>34</td>\n",
       "      <td>3</td>\n",
       "      <td>0.0882</td>\n",
       "      <td>0.0455</td>\n",
       "    </tr>\n",
       "    <tr>\n",
       "      <th>12</th>\n",
       "      <td>Preset_1=1, Preset_2=8</td>\n",
       "      <td>24</td>\n",
       "      <td>2</td>\n",
       "      <td>0.0833</td>\n",
       "      <td>0.0303</td>\n",
       "    </tr>\n",
       "    <tr>\n",
       "      <th>13</th>\n",
       "      <td>Preset_1=2, Preset_2=6</td>\n",
       "      <td>37</td>\n",
       "      <td>3</td>\n",
       "      <td>0.0811</td>\n",
       "      <td>0.0455</td>\n",
       "    </tr>\n",
       "    <tr>\n",
       "      <th>14</th>\n",
       "      <td>Preset_1=2, Preset_2=3</td>\n",
       "      <td>26</td>\n",
       "      <td>2</td>\n",
       "      <td>0.0769</td>\n",
       "      <td>0.0303</td>\n",
       "    </tr>\n",
       "    <tr>\n",
       "      <th>15</th>\n",
       "      <td>Preset_1=2, Preset_2=5</td>\n",
       "      <td>40</td>\n",
       "      <td>3</td>\n",
       "      <td>0.0750</td>\n",
       "      <td>0.0455</td>\n",
       "    </tr>\n",
       "    <tr>\n",
       "      <th>16</th>\n",
       "      <td>Preset_1=3, Preset_2=2</td>\n",
       "      <td>29</td>\n",
       "      <td>2</td>\n",
       "      <td>0.0690</td>\n",
       "      <td>0.0303</td>\n",
       "    </tr>\n",
       "    <tr>\n",
       "      <th>17</th>\n",
       "      <td>Preset_1=3, Preset_2=3</td>\n",
       "      <td>32</td>\n",
       "      <td>2</td>\n",
       "      <td>0.0625</td>\n",
       "      <td>0.0303</td>\n",
       "    </tr>\n",
       "    <tr>\n",
       "      <th>18</th>\n",
       "      <td>Preset_1=2, Preset_2=2</td>\n",
       "      <td>34</td>\n",
       "      <td>2</td>\n",
       "      <td>0.0588</td>\n",
       "      <td>0.0303</td>\n",
       "    </tr>\n",
       "    <tr>\n",
       "      <th>19</th>\n",
       "      <td>Preset_1=2, Preset_2=7</td>\n",
       "      <td>37</td>\n",
       "      <td>2</td>\n",
       "      <td>0.0541</td>\n",
       "      <td>0.0303</td>\n",
       "    </tr>\n",
       "    <tr>\n",
       "      <th>20</th>\n",
       "      <td>Preset_1=1, Preset_2=3</td>\n",
       "      <td>43</td>\n",
       "      <td>2</td>\n",
       "      <td>0.0465</td>\n",
       "      <td>0.0303</td>\n",
       "    </tr>\n",
       "    <tr>\n",
       "      <th>21</th>\n",
       "      <td>Preset_1=3, Preset_2=8</td>\n",
       "      <td>39</td>\n",
       "      <td>1</td>\n",
       "      <td>0.0256</td>\n",
       "      <td>0.0152</td>\n",
       "    </tr>\n",
       "    <tr>\n",
       "      <th>22</th>\n",
       "      <td>Preset_1=2, Preset_2=4</td>\n",
       "      <td>40</td>\n",
       "      <td>1</td>\n",
       "      <td>0.0250</td>\n",
       "      <td>0.0152</td>\n",
       "    </tr>\n",
       "    <tr>\n",
       "      <th>23</th>\n",
       "      <td>Preset_1=3, Preset_2=4</td>\n",
       "      <td>31</td>\n",
       "      <td>0</td>\n",
       "      <td>0.0000</td>\n",
       "      <td>0.0000</td>\n",
       "    </tr>\n",
       "  </tbody>\n",
       "</table>\n",
       "</div>"
      ],
      "text/plain": [
       "           Preset_Combined  total  failures  failure_rate  failure_share\n",
       "0   Preset_1=1, Preset_2=5     31         5        0.1613         0.0758\n",
       "1   Preset_1=3, Preset_2=5     29         4        0.1379         0.0606\n",
       "2   Preset_1=2, Preset_2=1     30         4        0.1333         0.0606\n",
       "3   Preset_1=1, Preset_2=2     38         5        0.1316         0.0758\n",
       "4   Preset_1=1, Preset_2=1     34         4        0.1176         0.0606\n",
       "5   Preset_1=2, Preset_2=8     37         4        0.1081         0.0606\n",
       "6   Preset_1=1, Preset_2=7     38         4        0.1053         0.0606\n",
       "7   Preset_1=3, Preset_2=6     30         3        0.1000         0.0455\n",
       "8   Preset_1=3, Preset_2=1     31         3        0.0968         0.0455\n",
       "9   Preset_1=1, Preset_2=4     22         2        0.0909         0.0303\n",
       "10  Preset_1=3, Preset_2=7     34         3        0.0882         0.0455\n",
       "11  Preset_1=1, Preset_2=6     34         3        0.0882         0.0455\n",
       "12  Preset_1=1, Preset_2=8     24         2        0.0833         0.0303\n",
       "13  Preset_1=2, Preset_2=6     37         3        0.0811         0.0455\n",
       "14  Preset_1=2, Preset_2=3     26         2        0.0769         0.0303\n",
       "15  Preset_1=2, Preset_2=5     40         3        0.0750         0.0455\n",
       "16  Preset_1=3, Preset_2=2     29         2        0.0690         0.0303\n",
       "17  Preset_1=3, Preset_2=3     32         2        0.0625         0.0303\n",
       "18  Preset_1=2, Preset_2=2     34         2        0.0588         0.0303\n",
       "19  Preset_1=2, Preset_2=7     37         2        0.0541         0.0303\n",
       "20  Preset_1=1, Preset_2=3     43         2        0.0465         0.0303\n",
       "21  Preset_1=3, Preset_2=8     39         1        0.0256         0.0152\n",
       "22  Preset_1=2, Preset_2=4     40         1        0.0250         0.0152\n",
       "23  Preset_1=3, Preset_2=4     31         0        0.0000         0.0000"
      ]
     },
     "execution_count": 11,
     "metadata": {},
     "output_type": "execute_result"
    }
   ],
   "source": [
    "table_combined"
   ]
  },
  {
   "cell_type": "code",
   "execution_count": 12,
   "metadata": {},
   "outputs": [],
   "source": [
    "# Compares the failure rate of a target value against the average of all others\n",
    "def compare_failure_rate_against_others(table, column, target_value):\n",
    "    target_rate = table.loc[table[column] == target_value, \"failure_rate\"].values[0]\n",
    "    average_rate_others = table.loc[table[column] != target_value, \"failure_rate\"].mean()\n",
    "    percent_higher = ((target_rate - average_rate_others) / average_rate_others) * 100\n",
    "    percent_higher = round(percent_higher, 2)\n",
    "\n",
    "    print(\n",
    "        f\"{column} = {target_value} has the highest failure rate ({target_rate:.2%}), \"\n",
    "        f\"which is approximately {percent_higher}% higher than the average failure rate of \"\n",
    "        f\"all other {column} values ({average_rate_others:.2%}).\"\n",
    "    )"
   ]
  },
  {
   "cell_type": "code",
   "execution_count": 13,
   "metadata": {},
   "outputs": [
    {
     "name": "stdout",
     "output_type": "stream",
     "text": [
      "Preset_1 = 1 has the highest failure rate (10.23%), which is approximately 40.81% higher than the average failure rate of all other Preset_1 values (7.26%).\n"
     ]
    }
   ],
   "source": [
    "compare_failure_rate_against_others(table_preset_1, \"Preset_1\", 1)"
   ]
  },
  {
   "cell_type": "code",
   "execution_count": 14,
   "metadata": {},
   "outputs": [
    {
     "name": "stdout",
     "output_type": "stream",
     "text": [
      "Preset_2 = 5 has the highest failure rate (12.00%), which is approximately 56.05% higher than the average failure rate of all other Preset_2 values (7.69%).\n"
     ]
    }
   ],
   "source": [
    "compare_failure_rate_against_others(table_preset_2, \"Preset_2\", 5)"
   ]
  },
  {
   "cell_type": "code",
   "execution_count": 15,
   "metadata": {},
   "outputs": [
    {
     "name": "stdout",
     "output_type": "stream",
     "text": [
      "Preset_Combined = Preset_1=1, Preset_2=5 has the highest failure rate (16.13%), which is approximately 99.92% higher than the average failure rate of all other Preset_Combined values (8.07%).\n"
     ]
    }
   ],
   "source": [
    "target_value = table_combined.sort_values(\"failure_rate\", ascending=False).iloc[0][\"Preset_Combined\"]\n",
    "compare_failure_rate_against_others(table_combined, \"Preset_Combined\", target_value)"
   ]
  },
  {
   "cell_type": "code",
   "execution_count": 16,
   "metadata": {},
   "outputs": [
    {
     "data": {
      "application/vnd.microsoft.datawrangler.viewer.v0+json": {
       "columns": [
        {
         "name": "index",
         "rawType": "int64",
         "type": "integer"
        },
        {
         "name": "Preset_Combined",
         "rawType": "object",
         "type": "string"
        },
        {
         "name": "total",
         "rawType": "int64",
         "type": "integer"
        },
        {
         "name": "failures",
         "rawType": "int64",
         "type": "integer"
        },
        {
         "name": "failure_rate",
         "rawType": "float64",
         "type": "float"
        },
        {
         "name": "failure_share",
         "rawType": "float64",
         "type": "float"
        }
       ],
       "ref": "9786e31d-4ee7-4540-a07d-f83b9975bfe9",
       "rows": [
        [
         "0",
         "Preset_1=1, Preset_2=5",
         "31",
         "5",
         "0.1613",
         "0.0758"
        ],
        [
         "1",
         "Preset_1=3, Preset_2=5",
         "29",
         "4",
         "0.1379",
         "0.0606"
        ],
        [
         "2",
         "Preset_1=2, Preset_2=1",
         "30",
         "4",
         "0.1333",
         "0.0606"
        ],
        [
         "3",
         "Preset_1=1, Preset_2=2",
         "38",
         "5",
         "0.1316",
         "0.0758"
        ],
        [
         "4",
         "Preset_1=1, Preset_2=1",
         "34",
         "4",
         "0.1176",
         "0.0606"
        ],
        [
         "5",
         "Preset_1=2, Preset_2=8",
         "37",
         "4",
         "0.1081",
         "0.0606"
        ],
        [
         "6",
         "Preset_1=1, Preset_2=7",
         "38",
         "4",
         "0.1053",
         "0.0606"
        ],
        [
         "7",
         "Preset_1=3, Preset_2=6",
         "30",
         "3",
         "0.1",
         "0.0455"
        ],
        [
         "8",
         "Preset_1=3, Preset_2=1",
         "31",
         "3",
         "0.0968",
         "0.0455"
        ],
        [
         "9",
         "Preset_1=1, Preset_2=4",
         "22",
         "2",
         "0.0909",
         "0.0303"
        ],
        [
         "10",
         "Preset_1=3, Preset_2=7",
         "34",
         "3",
         "0.0882",
         "0.0455"
        ],
        [
         "11",
         "Preset_1=1, Preset_2=6",
         "34",
         "3",
         "0.0882",
         "0.0455"
        ],
        [
         "12",
         "Preset_1=1, Preset_2=8",
         "24",
         "2",
         "0.0833",
         "0.0303"
        ],
        [
         "13",
         "Preset_1=2, Preset_2=6",
         "37",
         "3",
         "0.0811",
         "0.0455"
        ],
        [
         "14",
         "Preset_1=2, Preset_2=3",
         "26",
         "2",
         "0.0769",
         "0.0303"
        ],
        [
         "15",
         "Preset_1=2, Preset_2=5",
         "40",
         "3",
         "0.075",
         "0.0455"
        ],
        [
         "16",
         "Preset_1=3, Preset_2=2",
         "29",
         "2",
         "0.069",
         "0.0303"
        ],
        [
         "17",
         "Preset_1=3, Preset_2=3",
         "32",
         "2",
         "0.0625",
         "0.0303"
        ],
        [
         "18",
         "Preset_1=2, Preset_2=2",
         "34",
         "2",
         "0.0588",
         "0.0303"
        ],
        [
         "19",
         "Preset_1=2, Preset_2=7",
         "37",
         "2",
         "0.0541",
         "0.0303"
        ],
        [
         "20",
         "Preset_1=1, Preset_2=3",
         "43",
         "2",
         "0.0465",
         "0.0303"
        ],
        [
         "21",
         "Preset_1=3, Preset_2=8",
         "39",
         "1",
         "0.0256",
         "0.0152"
        ],
        [
         "22",
         "Preset_1=2, Preset_2=4",
         "40",
         "1",
         "0.025",
         "0.0152"
        ],
        [
         "23",
         "Preset_1=3, Preset_2=4",
         "31",
         "0",
         "0.0",
         "0.0"
        ]
       ],
       "shape": {
        "columns": 5,
        "rows": 24
       }
      },
      "text/html": [
       "<div>\n",
       "<style scoped>\n",
       "    .dataframe tbody tr th:only-of-type {\n",
       "        vertical-align: middle;\n",
       "    }\n",
       "\n",
       "    .dataframe tbody tr th {\n",
       "        vertical-align: top;\n",
       "    }\n",
       "\n",
       "    .dataframe thead th {\n",
       "        text-align: right;\n",
       "    }\n",
       "</style>\n",
       "<table border=\"1\" class=\"dataframe\">\n",
       "  <thead>\n",
       "    <tr style=\"text-align: right;\">\n",
       "      <th></th>\n",
       "      <th>Preset_Combined</th>\n",
       "      <th>total</th>\n",
       "      <th>failures</th>\n",
       "      <th>failure_rate</th>\n",
       "      <th>failure_share</th>\n",
       "    </tr>\n",
       "  </thead>\n",
       "  <tbody>\n",
       "    <tr>\n",
       "      <th>0</th>\n",
       "      <td>Preset_1=1, Preset_2=5</td>\n",
       "      <td>31</td>\n",
       "      <td>5</td>\n",
       "      <td>0.1613</td>\n",
       "      <td>0.0758</td>\n",
       "    </tr>\n",
       "    <tr>\n",
       "      <th>1</th>\n",
       "      <td>Preset_1=3, Preset_2=5</td>\n",
       "      <td>29</td>\n",
       "      <td>4</td>\n",
       "      <td>0.1379</td>\n",
       "      <td>0.0606</td>\n",
       "    </tr>\n",
       "    <tr>\n",
       "      <th>2</th>\n",
       "      <td>Preset_1=2, Preset_2=1</td>\n",
       "      <td>30</td>\n",
       "      <td>4</td>\n",
       "      <td>0.1333</td>\n",
       "      <td>0.0606</td>\n",
       "    </tr>\n",
       "    <tr>\n",
       "      <th>3</th>\n",
       "      <td>Preset_1=1, Preset_2=2</td>\n",
       "      <td>38</td>\n",
       "      <td>5</td>\n",
       "      <td>0.1316</td>\n",
       "      <td>0.0758</td>\n",
       "    </tr>\n",
       "    <tr>\n",
       "      <th>4</th>\n",
       "      <td>Preset_1=1, Preset_2=1</td>\n",
       "      <td>34</td>\n",
       "      <td>4</td>\n",
       "      <td>0.1176</td>\n",
       "      <td>0.0606</td>\n",
       "    </tr>\n",
       "    <tr>\n",
       "      <th>5</th>\n",
       "      <td>Preset_1=2, Preset_2=8</td>\n",
       "      <td>37</td>\n",
       "      <td>4</td>\n",
       "      <td>0.1081</td>\n",
       "      <td>0.0606</td>\n",
       "    </tr>\n",
       "    <tr>\n",
       "      <th>6</th>\n",
       "      <td>Preset_1=1, Preset_2=7</td>\n",
       "      <td>38</td>\n",
       "      <td>4</td>\n",
       "      <td>0.1053</td>\n",
       "      <td>0.0606</td>\n",
       "    </tr>\n",
       "    <tr>\n",
       "      <th>7</th>\n",
       "      <td>Preset_1=3, Preset_2=6</td>\n",
       "      <td>30</td>\n",
       "      <td>3</td>\n",
       "      <td>0.1000</td>\n",
       "      <td>0.0455</td>\n",
       "    </tr>\n",
       "    <tr>\n",
       "      <th>8</th>\n",
       "      <td>Preset_1=3, Preset_2=1</td>\n",
       "      <td>31</td>\n",
       "      <td>3</td>\n",
       "      <td>0.0968</td>\n",
       "      <td>0.0455</td>\n",
       "    </tr>\n",
       "    <tr>\n",
       "      <th>9</th>\n",
       "      <td>Preset_1=1, Preset_2=4</td>\n",
       "      <td>22</td>\n",
       "      <td>2</td>\n",
       "      <td>0.0909</td>\n",
       "      <td>0.0303</td>\n",
       "    </tr>\n",
       "    <tr>\n",
       "      <th>10</th>\n",
       "      <td>Preset_1=3, Preset_2=7</td>\n",
       "      <td>34</td>\n",
       "      <td>3</td>\n",
       "      <td>0.0882</td>\n",
       "      <td>0.0455</td>\n",
       "    </tr>\n",
       "    <tr>\n",
       "      <th>11</th>\n",
       "      <td>Preset_1=1, Preset_2=6</td>\n",
       "      <td>34</td>\n",
       "      <td>3</td>\n",
       "      <td>0.0882</td>\n",
       "      <td>0.0455</td>\n",
       "    </tr>\n",
       "    <tr>\n",
       "      <th>12</th>\n",
       "      <td>Preset_1=1, Preset_2=8</td>\n",
       "      <td>24</td>\n",
       "      <td>2</td>\n",
       "      <td>0.0833</td>\n",
       "      <td>0.0303</td>\n",
       "    </tr>\n",
       "    <tr>\n",
       "      <th>13</th>\n",
       "      <td>Preset_1=2, Preset_2=6</td>\n",
       "      <td>37</td>\n",
       "      <td>3</td>\n",
       "      <td>0.0811</td>\n",
       "      <td>0.0455</td>\n",
       "    </tr>\n",
       "    <tr>\n",
       "      <th>14</th>\n",
       "      <td>Preset_1=2, Preset_2=3</td>\n",
       "      <td>26</td>\n",
       "      <td>2</td>\n",
       "      <td>0.0769</td>\n",
       "      <td>0.0303</td>\n",
       "    </tr>\n",
       "    <tr>\n",
       "      <th>15</th>\n",
       "      <td>Preset_1=2, Preset_2=5</td>\n",
       "      <td>40</td>\n",
       "      <td>3</td>\n",
       "      <td>0.0750</td>\n",
       "      <td>0.0455</td>\n",
       "    </tr>\n",
       "    <tr>\n",
       "      <th>16</th>\n",
       "      <td>Preset_1=3, Preset_2=2</td>\n",
       "      <td>29</td>\n",
       "      <td>2</td>\n",
       "      <td>0.0690</td>\n",
       "      <td>0.0303</td>\n",
       "    </tr>\n",
       "    <tr>\n",
       "      <th>17</th>\n",
       "      <td>Preset_1=3, Preset_2=3</td>\n",
       "      <td>32</td>\n",
       "      <td>2</td>\n",
       "      <td>0.0625</td>\n",
       "      <td>0.0303</td>\n",
       "    </tr>\n",
       "    <tr>\n",
       "      <th>18</th>\n",
       "      <td>Preset_1=2, Preset_2=2</td>\n",
       "      <td>34</td>\n",
       "      <td>2</td>\n",
       "      <td>0.0588</td>\n",
       "      <td>0.0303</td>\n",
       "    </tr>\n",
       "    <tr>\n",
       "      <th>19</th>\n",
       "      <td>Preset_1=2, Preset_2=7</td>\n",
       "      <td>37</td>\n",
       "      <td>2</td>\n",
       "      <td>0.0541</td>\n",
       "      <td>0.0303</td>\n",
       "    </tr>\n",
       "    <tr>\n",
       "      <th>20</th>\n",
       "      <td>Preset_1=1, Preset_2=3</td>\n",
       "      <td>43</td>\n",
       "      <td>2</td>\n",
       "      <td>0.0465</td>\n",
       "      <td>0.0303</td>\n",
       "    </tr>\n",
       "    <tr>\n",
       "      <th>21</th>\n",
       "      <td>Preset_1=3, Preset_2=8</td>\n",
       "      <td>39</td>\n",
       "      <td>1</td>\n",
       "      <td>0.0256</td>\n",
       "      <td>0.0152</td>\n",
       "    </tr>\n",
       "    <tr>\n",
       "      <th>22</th>\n",
       "      <td>Preset_1=2, Preset_2=4</td>\n",
       "      <td>40</td>\n",
       "      <td>1</td>\n",
       "      <td>0.0250</td>\n",
       "      <td>0.0152</td>\n",
       "    </tr>\n",
       "    <tr>\n",
       "      <th>23</th>\n",
       "      <td>Preset_1=3, Preset_2=4</td>\n",
       "      <td>31</td>\n",
       "      <td>0</td>\n",
       "      <td>0.0000</td>\n",
       "      <td>0.0000</td>\n",
       "    </tr>\n",
       "  </tbody>\n",
       "</table>\n",
       "</div>"
      ],
      "text/plain": [
       "           Preset_Combined  total  failures  failure_rate  failure_share\n",
       "0   Preset_1=1, Preset_2=5     31         5        0.1613         0.0758\n",
       "1   Preset_1=3, Preset_2=5     29         4        0.1379         0.0606\n",
       "2   Preset_1=2, Preset_2=1     30         4        0.1333         0.0606\n",
       "3   Preset_1=1, Preset_2=2     38         5        0.1316         0.0758\n",
       "4   Preset_1=1, Preset_2=1     34         4        0.1176         0.0606\n",
       "5   Preset_1=2, Preset_2=8     37         4        0.1081         0.0606\n",
       "6   Preset_1=1, Preset_2=7     38         4        0.1053         0.0606\n",
       "7   Preset_1=3, Preset_2=6     30         3        0.1000         0.0455\n",
       "8   Preset_1=3, Preset_2=1     31         3        0.0968         0.0455\n",
       "9   Preset_1=1, Preset_2=4     22         2        0.0909         0.0303\n",
       "10  Preset_1=3, Preset_2=7     34         3        0.0882         0.0455\n",
       "11  Preset_1=1, Preset_2=6     34         3        0.0882         0.0455\n",
       "12  Preset_1=1, Preset_2=8     24         2        0.0833         0.0303\n",
       "13  Preset_1=2, Preset_2=6     37         3        0.0811         0.0455\n",
       "14  Preset_1=2, Preset_2=3     26         2        0.0769         0.0303\n",
       "15  Preset_1=2, Preset_2=5     40         3        0.0750         0.0455\n",
       "16  Preset_1=3, Preset_2=2     29         2        0.0690         0.0303\n",
       "17  Preset_1=3, Preset_2=3     32         2        0.0625         0.0303\n",
       "18  Preset_1=2, Preset_2=2     34         2        0.0588         0.0303\n",
       "19  Preset_1=2, Preset_2=7     37         2        0.0541         0.0303\n",
       "20  Preset_1=1, Preset_2=3     43         2        0.0465         0.0303\n",
       "21  Preset_1=3, Preset_2=8     39         1        0.0256         0.0152\n",
       "22  Preset_1=2, Preset_2=4     40         1        0.0250         0.0152\n",
       "23  Preset_1=3, Preset_2=4     31         0        0.0000         0.0000"
      ]
     },
     "execution_count": 16,
     "metadata": {},
     "output_type": "execute_result"
    }
   ],
   "source": [
    "table_combined"
   ]
  },
  {
   "cell_type": "code",
   "execution_count": null,
   "metadata": {},
   "outputs": [
    {
     "data": {
      "image/png": "[encoded data removed]",
      "text/plain": [
       "<Figure size 600x600 with 1 Axes>"
      ]
     },
     "metadata": {},
     "output_type": "display_data"
    }
   ],
   "source": [
    "import pandas as pd\n",
    "import matplotlib.pyplot as plt\n",
    "\n",
    "\n",
    "# Generates a failure rate chart by preset combination, highlighting extremes\n",
    "def plot_failure_rate_by_combination(df: pd.DataFrame) -> None:\n",
    "    df_plot = df.copy().sort_values(\"failure_rate\", ascending=False)\n",
    "    max_rate: float = df_plot[\"failure_rate\"].max()\n",
    "    avg_rate: float = df_plot[\"failure_rate\"].mean()\n",
    "\n",
    "    colors: list[str] = [\n",
    "        \"red\" if rate == max_rate else \"gray\" if rate > 0 else \"darkgreen\"\n",
    "        for rate in df_plot[\"failure_rate\"]\n",
    "    ]\n",
    "\n",
    "    plt.figure(figsize=(6, 6))\n",
    "    bars = plt.barh(df_plot[\"Preset_Combined\"], df_plot[\"failure_rate\"], color=colors)\n",
    "\n",
    "    # Adds percentage labels on the bars\n",
    "    for bar, rate in zip(bars, df_plot[\"failure_rate\"]):\n",
    "        width = bar.get_width()\n",
    "        color = \"darkgreen\" if rate == 0 else \"black\"\n",
    "        weight = \"bold\" if rate == 0 else \"normal\"\n",
    "        size = 10 if rate == 0 else 8\n",
    "\n",
    "        plt.text(\n",
    "            width + 0.002,\n",
    "            bar.get_y() + bar.get_height() / 2,\n",
    "            f\"{width:.2%}\",\n",
    "            va=\"center\",\n",
    "            fontsize=size,\n",
    "            color=color,\n",
    "            fontweight=weight,\n",
    "        )\n",
    "\n",
    "    # Draws a dashed red line for the average failure rate\n",
    "    plt.axvline(avg_rate, color=\"red\", linestyle=\"--\", linewidth=1)\n",
    "    plt.text(\n",
    "        avg_rate + 0.002,\n",
    "        -0.85,\n",
    "        f\"Avg: {avg_rate:.2%}\",\n",
    "        color=\"red\",\n",
    "        fontsize=8,\n",
    "        fontweight=\"bold\",\n",
    "    )\n",
    "\n",
    "    # Remove X-axis labels and ticks\n",
    "    plt.xticks([])\n",
    "    plt.xlabel(\"\")\n",
    "    plt.xlim(0, 0.2)\n",
    "    plt.title(\"Failure Rate by Preset Combination\")\n",
    "\n",
    "    ax = plt.gca()\n",
    "    ax.spines[\"top\"].set_visible(False)\n",
    "    ax.spines[\"bottom\"].set_visible(False)\n",
    "    ax.spines[\"right\"].set_visible(False)\n",
    "\n",
    "    # Optional: horizontal grid lines\n",
    "    # ax.yaxis.grid(True, linestyle=\"--\", color=\"lightgray\")\n",
    "    # ax.tick_params(left=False)\n",
    "\n",
    "    ax.invert_yaxis()\n",
    "    plt.tight_layout()\n",
    "    plt.show()\n",
    "\n",
    "\n",
    "plot_failure_rate_by_combination(table_combined)\n"
   ]
  },
  {
   "cell_type": "markdown",
   "metadata": {},
   "source": [
    "#### **Task 2: Answer**\n",
    "\n",
    "- Preset_1\n",
    "    - `Preset_1 = 1` had the **highest failure rate** (**10.23%**), which is approximately **40.81% higher** than the failure rates observed for the other values (`Preset_1 = 2` at 7.47% and `Preset_1 = 3` at 7.06%).\n",
    "    - There is an **inversely proportional relationship** between the value of `Preset_1` and the failure rate: as the preset value increases, the failure rate decreases.\n",
    "    - Approximately **40.9% of all failures** occurred when `Preset_1 = 1`.\n",
    "        - This suggests that this configuration is associated with higher operational risk and **warrants deeper investigation** regarding its usage context and impact on equipment reliability.\n",
    "\n",
    "\n",
    "- Preset_2\n",
    "    - `Preset_2 = 5` had the **highest failure rate** (**12.00%**), which is approximately **56.05% higher** than the average failure rate observed for the other values (`Preset_2 ≠ 5`, average at **7.69%**).\n",
    "    - The failure rate decreases across several other preset values, suggesting that higher values of `Preset_2` are not necessarily associated with increased failure — the relationship is **non-linear** and requires deeper contextual analysis.\n",
    "    - Approximately **18.2% of all failures** occurred when `Preset_2 = 5`.\n",
    "        - This suggests that this configuration represents a critical risk scenario and **should be prioritized for operational monitoring and root cause analysis**.\n",
    "\n",
    "- Combined Presets (`Preset_1` + `Preset_2`)\n",
    "    - The combination `Preset_1 = 1, Preset_2 = 5` had the **highest failure rate** among all configurations (**16.13%**), which is approximately **90.2% higher** than the average failure rate of the other combined configurations (**8.48%**).\n",
    "    - This combination also accounted for **7.58% of all failures**, despite representing a smaller portion of the dataset, which reinforces its **disproportionate operational risk**.\n",
    "    - On the other hand, the combination `Preset_1 = 3, Preset_2 = 4` showed a **0.00% failure rate**, with **no failures recorded** across all its cycles.\n",
    "    - These findings highlight the need to **not only analyze presets individually**, but also understand how their **interaction amplifies failure risk**.\n",
    "        - The configuration `Preset_1 = 1, Preset_2 = 5` should be flagged as **high priority for preventive measures**, including predictive maintenance, operational review, and parameter reassessment.\n",
    "\n"
   ]
  },
  {
   "cell_type": "markdown",
   "metadata": {},
   "source": [
    "### **🟥 TASK 3**\n",
    "- Categorize equipment failures by their nature/root cause according to parameter readings (temperature, pressure, and others).\n",
    "    - Analyze patterns in these readings that could indicate specific failure types. How do these patterns differ across operational regimes? Provide insights based on your findings."
   ]
  },
  {
   "cell_type": "code",
   "execution_count": null,
   "metadata": {},
   "outputs": [],
   "source": []
  },
  {
   "cell_type": "markdown",
   "metadata": {},
   "source": [
    "### **🟥 TASK 4**\n",
    "- Create a model (or models) using the technique you think is most appropriate and measure its performance.\n",
    "    - Based on the given time-series dataset, which models or techniques are suitable for predicting whether the equipment will fail before it occurs? Additionally, how can the model's performance be tuned and measured for this task?"
   ]
  },
  {
   "cell_type": "code",
   "execution_count": null,
   "metadata": {},
   "outputs": [],
   "source": []
  },
  {
   "cell_type": "markdown",
   "metadata": {},
   "source": [
    "### **🟥 TASK 5**\n",
    "- Analyze variable importance.\n",
    "    - After developing a model, how can we determine which variables had the greatest impact on the prediction?"
   ]
  },
  {
   "cell_type": "code",
   "execution_count": null,
   "metadata": {},
   "outputs": [],
   "source": []
  }
 ],
 "metadata": {
  "kernelspec": {
   "display_name": "Python 3",
   "language": "python",
   "name": "python3"
  },
  "language_info": {
   "codemirror_mode": {
    "name": "ipython",
    "version": 3
   },
   "file_extension": ".py",
   "mimetype": "text/x-python",
   "name": "python",
   "nbconvert_exporter": "python",
   "pygments_lexer": "ipython3",
   "version": "3.11.11"
  }
 },
 "nbformat": 4,
 "nbformat_minor": 2
}
